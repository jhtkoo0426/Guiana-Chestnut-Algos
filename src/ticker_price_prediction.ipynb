{
 "cells": [
  {
   "cell_type": "markdown",
   "metadata": {},
   "source": [
    "# Ticker Price Prediction\n",
    "This notebook focuses on training a machine learning model to predict the future trend of a particular US stock symbol.\n",
    "\n",
    "We will be using the `yfinance` package to download financial data for US stock symbols."
   ]
  },
  {
   "cell_type": "markdown",
   "metadata": {},
   "source": [
    "### Packages\n",
    "Please ensure these packages are installed on your local environment via ```pip install -r requirements.txt``` or the corresponding package manager on your OS."
   ]
  },
  {
   "cell_type": "code",
   "execution_count": 15,
   "metadata": {},
   "outputs": [],
   "source": [
    "import csv\n",
    "import matplotlib\n",
    "import matplotlib.pyplot as plt\n",
    "import numpy as np\n",
    "import pandas as pd\n",
    "import yfinance as yf\n",
    "\n",
    "from sklearn.preprocessing import MinMaxScaler\n",
    "from keras.models import Sequential\n",
    "from keras.layers import Dense, Dropout, LSTM\n",
    "\n",
    "%matplotlib inline"
   ]
  },
  {
   "cell_type": "markdown",
   "metadata": {},
   "source": [
    "### 1. Prerequisites & helper functions\n",
    "\n",
    "To get started, we will define several functions for retrieving data from the Yahoo Finance API via the yfinance package."
   ]
  },
  {
   "cell_type": "code",
   "execution_count": 18,
   "metadata": {},
   "outputs": [],
   "source": [
    "def get_candlesticks(ticker_obj, period='10y', interval='1d'):\n",
    "    \"\"\"\n",
    "    Retrieve the candlesticks of a ticker for a certain time period.\n",
    "    @params ticker_obj: a yfinance Ticker object that provides access to data of a specific ticker\n",
    "    @params period: a specific time period for which the candlesticks data will be retrieved\n",
    "    @params interval: the interval for which to fetch candlesticks data\n",
    "\n",
    "    @return: pandas Dataframe\n",
    "    \"\"\"\n",
    "    return ticker_obj.history(period=period, interval=interval)\n",
    "\n",
    "def get_last_balance_sheet(ticker_obj):\n",
    "    \"\"\"\n",
    "    Retrieve the most recent balance sheet.\n",
    "    @params ticker_obj: a yfinance Ticker object that provides access to data of a specific ticker\n",
    "\n",
    "    @return: pandas Dataframe\n",
    "    \"\"\"\n",
    "    return ticker_obj.balance_sheet.iloc[:, 0]"
   ]
  },
  {
   "cell_type": "markdown",
   "metadata": {},
   "source": [
    "### 2. Downloading data for a specific US stock symbol\n",
    "\n",
    "Let us download the financial data for a specified US stock symbol:"
   ]
  },
  {
   "cell_type": "code",
   "execution_count": 4,
   "metadata": {},
   "outputs": [],
   "source": [
    "ticker = 'AAPL'\n",
    "ticker_obj = yf.Ticker(ticker)"
   ]
  },
  {
   "cell_type": "code",
   "execution_count": 5,
   "metadata": {},
   "outputs": [
    {
     "data": {
      "text/html": [
       "<div>\n",
       "<style scoped>\n",
       "    .dataframe tbody tr th:only-of-type {\n",
       "        vertical-align: middle;\n",
       "    }\n",
       "\n",
       "    .dataframe tbody tr th {\n",
       "        vertical-align: top;\n",
       "    }\n",
       "\n",
       "    .dataframe thead th {\n",
       "        text-align: right;\n",
       "    }\n",
       "</style>\n",
       "<table border=\"1\" class=\"dataframe\">\n",
       "  <thead>\n",
       "    <tr style=\"text-align: right;\">\n",
       "      <th></th>\n",
       "      <th>Open</th>\n",
       "      <th>High</th>\n",
       "      <th>Low</th>\n",
       "      <th>Close</th>\n",
       "      <th>Volume</th>\n",
       "      <th>Dividends</th>\n",
       "      <th>Stock Splits</th>\n",
       "    </tr>\n",
       "    <tr>\n",
       "      <th>Date</th>\n",
       "      <th></th>\n",
       "      <th></th>\n",
       "      <th></th>\n",
       "      <th></th>\n",
       "      <th></th>\n",
       "      <th></th>\n",
       "      <th></th>\n",
       "    </tr>\n",
       "  </thead>\n",
       "  <tbody>\n",
       "    <tr>\n",
       "      <th>2012-11-19 00:00:00-05:00</th>\n",
       "      <td>16.607285</td>\n",
       "      <td>17.430108</td>\n",
       "      <td>16.581793</td>\n",
       "      <td>17.375746</td>\n",
       "      <td>823317600</td>\n",
       "      <td>0.0</td>\n",
       "      <td>0.0</td>\n",
       "    </tr>\n",
       "    <tr>\n",
       "      <th>2012-11-20 00:00:00-05:00</th>\n",
       "      <td>17.565557</td>\n",
       "      <td>17.566785</td>\n",
       "      <td>17.033285</td>\n",
       "      <td>17.227703</td>\n",
       "      <td>642754000</td>\n",
       "      <td>0.0</td>\n",
       "      <td>0.0</td>\n",
       "    </tr>\n",
       "    <tr>\n",
       "      <th>2012-11-21 00:00:00-05:00</th>\n",
       "      <td>17.330287</td>\n",
       "      <td>17.426113</td>\n",
       "      <td>17.095325</td>\n",
       "      <td>17.251966</td>\n",
       "      <td>373002000</td>\n",
       "      <td>0.0</td>\n",
       "      <td>0.0</td>\n",
       "    </tr>\n",
       "    <tr>\n",
       "      <th>2012-11-23 00:00:00-05:00</th>\n",
       "      <td>17.419975</td>\n",
       "      <td>17.568323</td>\n",
       "      <td>17.279613</td>\n",
       "      <td>17.552965</td>\n",
       "      <td>272826400</td>\n",
       "      <td>0.0</td>\n",
       "      <td>0.0</td>\n",
       "    </tr>\n",
       "    <tr>\n",
       "      <th>2012-11-26 00:00:00-05:00</th>\n",
       "      <td>17.688105</td>\n",
       "      <td>18.121170</td>\n",
       "      <td>17.620842</td>\n",
       "      <td>18.106735</td>\n",
       "      <td>630579600</td>\n",
       "      <td>0.0</td>\n",
       "      <td>0.0</td>\n",
       "    </tr>\n",
       "    <tr>\n",
       "      <th>...</th>\n",
       "      <td>...</td>\n",
       "      <td>...</td>\n",
       "      <td>...</td>\n",
       "      <td>...</td>\n",
       "      <td>...</td>\n",
       "      <td>...</td>\n",
       "      <td>...</td>\n",
       "    </tr>\n",
       "    <tr>\n",
       "      <th>2022-11-11 00:00:00-05:00</th>\n",
       "      <td>145.820007</td>\n",
       "      <td>150.009995</td>\n",
       "      <td>144.369995</td>\n",
       "      <td>149.699997</td>\n",
       "      <td>93903800</td>\n",
       "      <td>0.0</td>\n",
       "      <td>0.0</td>\n",
       "    </tr>\n",
       "    <tr>\n",
       "      <th>2022-11-14 00:00:00-05:00</th>\n",
       "      <td>148.970001</td>\n",
       "      <td>150.279999</td>\n",
       "      <td>147.429993</td>\n",
       "      <td>148.279999</td>\n",
       "      <td>73374100</td>\n",
       "      <td>0.0</td>\n",
       "      <td>0.0</td>\n",
       "    </tr>\n",
       "    <tr>\n",
       "      <th>2022-11-15 00:00:00-05:00</th>\n",
       "      <td>152.220001</td>\n",
       "      <td>153.589996</td>\n",
       "      <td>148.559998</td>\n",
       "      <td>150.039993</td>\n",
       "      <td>89868300</td>\n",
       "      <td>0.0</td>\n",
       "      <td>0.0</td>\n",
       "    </tr>\n",
       "    <tr>\n",
       "      <th>2022-11-16 00:00:00-05:00</th>\n",
       "      <td>149.130005</td>\n",
       "      <td>149.869995</td>\n",
       "      <td>147.289993</td>\n",
       "      <td>148.789993</td>\n",
       "      <td>64170900</td>\n",
       "      <td>0.0</td>\n",
       "      <td>0.0</td>\n",
       "    </tr>\n",
       "    <tr>\n",
       "      <th>2022-11-17 00:00:00-05:00</th>\n",
       "      <td>146.429993</td>\n",
       "      <td>151.479996</td>\n",
       "      <td>146.270004</td>\n",
       "      <td>150.929001</td>\n",
       "      <td>42062459</td>\n",
       "      <td>0.0</td>\n",
       "      <td>0.0</td>\n",
       "    </tr>\n",
       "  </tbody>\n",
       "</table>\n",
       "<p>2518 rows × 7 columns</p>\n",
       "</div>"
      ],
      "text/plain": [
       "                                 Open        High         Low       Close  \\\n",
       "Date                                                                        \n",
       "2012-11-19 00:00:00-05:00   16.607285   17.430108   16.581793   17.375746   \n",
       "2012-11-20 00:00:00-05:00   17.565557   17.566785   17.033285   17.227703   \n",
       "2012-11-21 00:00:00-05:00   17.330287   17.426113   17.095325   17.251966   \n",
       "2012-11-23 00:00:00-05:00   17.419975   17.568323   17.279613   17.552965   \n",
       "2012-11-26 00:00:00-05:00   17.688105   18.121170   17.620842   18.106735   \n",
       "...                               ...         ...         ...         ...   \n",
       "2022-11-11 00:00:00-05:00  145.820007  150.009995  144.369995  149.699997   \n",
       "2022-11-14 00:00:00-05:00  148.970001  150.279999  147.429993  148.279999   \n",
       "2022-11-15 00:00:00-05:00  152.220001  153.589996  148.559998  150.039993   \n",
       "2022-11-16 00:00:00-05:00  149.130005  149.869995  147.289993  148.789993   \n",
       "2022-11-17 00:00:00-05:00  146.429993  151.479996  146.270004  150.929001   \n",
       "\n",
       "                              Volume  Dividends  Stock Splits  \n",
       "Date                                                           \n",
       "2012-11-19 00:00:00-05:00  823317600        0.0           0.0  \n",
       "2012-11-20 00:00:00-05:00  642754000        0.0           0.0  \n",
       "2012-11-21 00:00:00-05:00  373002000        0.0           0.0  \n",
       "2012-11-23 00:00:00-05:00  272826400        0.0           0.0  \n",
       "2012-11-26 00:00:00-05:00  630579600        0.0           0.0  \n",
       "...                              ...        ...           ...  \n",
       "2022-11-11 00:00:00-05:00   93903800        0.0           0.0  \n",
       "2022-11-14 00:00:00-05:00   73374100        0.0           0.0  \n",
       "2022-11-15 00:00:00-05:00   89868300        0.0           0.0  \n",
       "2022-11-16 00:00:00-05:00   64170900        0.0           0.0  \n",
       "2022-11-17 00:00:00-05:00   42062459        0.0           0.0  \n",
       "\n",
       "[2518 rows x 7 columns]"
      ]
     },
     "execution_count": 5,
     "metadata": {},
     "output_type": "execute_result"
    }
   ],
   "source": [
    "ticker_cs = get_candlesticks(ticker_obj, '10y', '1d')\n",
    "ticker_cs"
   ]
  },
  {
   "cell_type": "markdown",
   "metadata": {},
   "source": [
    "We will be using the open price column to train our ML model, so extract the \"Open\" column from the dataframe:"
   ]
  },
  {
   "cell_type": "code",
   "execution_count": 9,
   "metadata": {},
   "outputs": [],
   "source": [
    "ticker_open_col = ticker_cs.iloc[:, 0:1].values"
   ]
  },
  {
   "cell_type": "markdown",
   "metadata": {},
   "source": [
    "This gives us a (n,1) dimensional numpy array."
   ]
  },
  {
   "cell_type": "code",
   "execution_count": 10,
   "metadata": {},
   "outputs": [
    {
     "data": {
      "text/plain": [
       "(2518, 1)"
      ]
     },
     "execution_count": 10,
     "metadata": {},
     "output_type": "execute_result"
    }
   ],
   "source": [
    "ticker_open_col.shape"
   ]
  },
  {
   "cell_type": "markdown",
   "metadata": {},
   "source": [
    "Now, we normalize the dataset:"
   ]
  },
  {
   "cell_type": "code",
   "execution_count": 12,
   "metadata": {},
   "outputs": [
    {
     "data": {
      "text/plain": [
       "array([[0.0272526 ],\n",
       "       [0.0329031 ],\n",
       "       [0.03151582],\n",
       "       ...,\n",
       "       [0.82689985],\n",
       "       [0.80867953],\n",
       "       [0.79275878]])"
      ]
     },
     "execution_count": 12,
     "metadata": {},
     "output_type": "execute_result"
    }
   ],
   "source": [
    "scaler = MinMaxScaler(feature_range=(0, 1))\n",
    "scaled_training_set = scaler.fit_transform(ticker_open_col)\n",
    "scaled_training_set"
   ]
  },
  {
   "cell_type": "markdown",
   "metadata": {},
   "source": [
    "Create X_train and y_train datasets:"
   ]
  },
  {
   "cell_type": "code",
   "execution_count": 25,
   "metadata": {},
   "outputs": [
    {
     "name": "stdout",
     "output_type": "stream",
     "text": [
      "(2458, 60) (2458, 1)\n"
     ]
    }
   ],
   "source": [
    "X_data = []\n",
    "y_data = []\n",
    "\n",
    "for i in range(60, scaled_training_set.shape[0]):\n",
    "    X_data.append(scaled_training_set[i-60:i, 0])\n",
    "    y_data.append(scaled_training_set[i, 0])\n",
    "\n",
    "X_data = np.array(X_data)\n",
    "y_data = np.array(y_data)\n",
    "y_data = np.reshape(y_data, (y_data.shape[0], 1))\n",
    "print(X_data.shape, y_data.shape)"
   ]
  },
  {
   "cell_type": "markdown",
   "metadata": {},
   "source": [
    "Split the data into training and testing datasets"
   ]
  },
  {
   "cell_type": "code",
   "execution_count": 28,
   "metadata": {},
   "outputs": [
    {
     "name": "stdout",
     "output_type": "stream",
     "text": [
      "(1966, 60) (1966, 1) (492, 60) (492, 1)\n"
     ]
    }
   ],
   "source": [
    "partition = round(X_data.shape[0] * 0.8)\n",
    "X_train = X_data[:partition, :]\n",
    "y_train = y_data[:partition, :]\n",
    "X_test = X_data[partition:, :]\n",
    "y_test = y_data[partition:, :]\n",
    "print(X_train.shape, y_train.shape, X_test.shape, y_test.shape)"
   ]
  },
  {
   "cell_type": "markdown",
   "metadata": {},
   "source": [
    "Reshape the data:"
   ]
  },
  {
   "cell_type": "code",
   "execution_count": 29,
   "metadata": {},
   "outputs": [
    {
     "data": {
      "text/plain": [
       "(1966, 60, 1)"
      ]
     },
     "execution_count": 29,
     "metadata": {},
     "output_type": "execute_result"
    }
   ],
   "source": [
    "X_train = np.reshape(X_train, (X_train.shape[0], X_train.shape[1], 1))\n",
    "X_train.shape"
   ]
  },
  {
   "cell_type": "markdown",
   "metadata": {},
   "source": [
    "### 4. Build a LSTM model for time series forecasting"
   ]
  },
  {
   "cell_type": "code",
   "execution_count": 30,
   "metadata": {},
   "outputs": [],
   "source": [
    "regressor = Sequential()\n",
    "\n",
    "regressor.add(LSTM(units=50, return_sequences=True, input_shape=(X_train.shape[1], 1)))\n",
    "regressor.add(Dropout(0.2))\n",
    "\n",
    "regressor.add(LSTM(units=50, return_sequences=True))\n",
    "regressor.add(Dropout(0.2))\n",
    "\n",
    "regressor.add(LSTM(units=50, return_sequences=True))\n",
    "regressor.add(Dropout(0.2))\n",
    "\n",
    "regressor.add(LSTM(units=50))\n",
    "regressor.add(Dropout(0.2))\n",
    "\n",
    "regressor.add(Dense(units=1))"
   ]
  },
  {
   "cell_type": "markdown",
   "metadata": {},
   "source": [
    "Train (fit) the model:"
   ]
  },
  {
   "cell_type": "code",
   "execution_count": 31,
   "metadata": {},
   "outputs": [
    {
     "name": "stdout",
     "output_type": "stream",
     "text": [
      "Epoch 1/10\n",
      "62/62 [==============================] - 14s 97ms/step - loss: 0.0051\n",
      "Epoch 2/10\n",
      "62/62 [==============================] - 6s 92ms/step - loss: 9.5799e-04\n",
      "Epoch 3/10\n",
      "62/62 [==============================] - 6s 94ms/step - loss: 8.4116e-04\n",
      "Epoch 4/10\n",
      "62/62 [==============================] - 5s 86ms/step - loss: 8.8990e-04\n",
      "Epoch 5/10\n",
      "62/62 [==============================] - 5s 86ms/step - loss: 8.6886e-04\n",
      "Epoch 6/10\n",
      "62/62 [==============================] - 5s 83ms/step - loss: 6.9338e-04\n",
      "Epoch 7/10\n",
      "62/62 [==============================] - 5s 85ms/step - loss: 7.3474e-04\n",
      "Epoch 8/10\n",
      "62/62 [==============================] - 6s 98ms/step - loss: 6.7251e-04\n",
      "Epoch 9/10\n",
      "62/62 [==============================] - 6s 97ms/step - loss: 6.7181e-04\n",
      "Epoch 10/10\n",
      "62/62 [==============================] - 6s 93ms/step - loss: 7.0002e-04\n"
     ]
    },
    {
     "data": {
      "text/plain": [
       "<keras.callbacks.History at 0x176a24396d0>"
      ]
     },
     "execution_count": 31,
     "metadata": {},
     "output_type": "execute_result"
    }
   ],
   "source": [
    "regressor.compile(optimizer='adam', loss='mean_squared_error')\n",
    "regressor.fit(X_train, y_train, epochs=10, batch_size=32)"
   ]
  },
  {
   "cell_type": "markdown",
   "metadata": {},
   "source": [
    "Test our model with the partitioned testing data:"
   ]
  },
  {
   "cell_type": "code",
   "execution_count": 37,
   "metadata": {},
   "outputs": [
    {
     "name": "stdout",
     "output_type": "stream",
     "text": [
      "16/16 [==============================] - 1s 34ms/step\n"
     ]
    }
   ],
   "source": [
    "predicted_prices = regressor.predict(X_test)\n",
    "predicted_prices = scaler.inverse_transform(predicted_prices)\n",
    "y_test = scaler.inverse_transform(y_test)"
   ]
  },
  {
   "cell_type": "markdown",
   "metadata": {},
   "source": [
    "Plot the predicted prices against the real prices:"
   ]
  },
  {
   "cell_type": "code",
   "execution_count": 39,
   "metadata": {},
   "outputs": [
    {
     "data": {
      "text/plain": [
       "<matplotlib.legend.Legend at 0x177054bbd90>"
      ]
     },
     "execution_count": 39,
     "metadata": {},
     "output_type": "execute_result"
    },
    {
     "data": {
      "image/png": "[encoded data removed]",
      "text/plain": [
       "<Figure size 640x480 with 1 Axes>"
      ]
     },
     "metadata": {},
     "output_type": "display_data"
    }
   ],
   "source": [
    "plt.plot(y_test, color='red', label='Actual prices')\n",
    "plt.plot(predicted_prices, color='blue', label='Predicted prices')\n",
    "plt.title(f\"Stock Price Prediction for {ticker}\")\n",
    "plt.xlabel('Time')\n",
    "plt.ylabel(f\"{ticker} price (USD)\")\n",
    "plt.legend()"
   ]
  },
  {
   "cell_type": "markdown",
   "metadata": {},
   "source": [
    "### 5. Evaluate results"
   ]
  },
  {
   "cell_type": "code",
   "execution_count": 43,
   "metadata": {},
   "outputs": [
    {
     "name": "stdout",
     "output_type": "stream",
     "text": [
      "Mean squared error for LSTM model: 0.18136284720530593\n"
     ]
    }
   ],
   "source": [
    "print(f\"Mean squared error for LSTM model: {1/y_test.shape[0]*np.mean((predicted_prices-y_test)**2)}\")"
   ]
  }
 ],
 "metadata": {
  "kernelspec": {
   "display_name": "Python 3.9.7 ('venv': venv)",
   "language": "python",
   "name": "python3"
  },
  "language_info": {
   "codemirror_mode": {
    "name": "ipython",
    "version": 3
   },
   "file_extension": ".py",
   "mimetype": "text/x-python",
   "name": "python",
   "nbconvert_exporter": "python",
   "pygments_lexer": "ipython3",
   "version": "3.9.7"
  },
  "orig_nbformat": 4,
  "vscode": {
   "interpreter": {
    "hash": "1d71bd85b3b56d8ab8092da112d59457961a3d40e245062debe6080a590c7c0f"
   }
  }
 },
 "nbformat": 4,
 "nbformat_minor": 2
}
