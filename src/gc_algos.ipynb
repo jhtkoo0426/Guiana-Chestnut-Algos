{
 "cells": [
  {
   "cell_type": "markdown",
   "metadata": {},
   "source": [
    "# Guiana Chestnut algorithms\n",
    "This notebook will aim to build several algorithms for fundamental and technical analysis of stocks on the S&Q 500 Index. However, it can be applied to other stocks as well.\n",
    "\n",
    "We will be using the following packages/APIs to formulate our algorithms:\n",
    "- [finnhub.io](https://finnhub.io/docs/api)\n",
    "- [yahoo_fin](http://theautomatic.net/yahoo_fin-documentation/)"
   ]
  },
  {
   "cell_type": "markdown",
   "metadata": {},
   "source": [
    "### Packages\n",
    "Please ensure these packages are installed on your local environment via ```pip install -r requirements.txt``` or the corresponding package manager on your OS."
   ]
  },
  {
   "cell_type": "code",
   "execution_count": 27,
   "metadata": {},
   "outputs": [],
   "source": [
    "import csv\n",
    "import numpy as np\n",
    "import pandas as pd\n",
    "import os\n",
    "import datetime\n",
    "import matplotlib.pyplot as plt\n",
    "\n",
    "import finnhub as fh\n",
    "import yfinance as yf\n",
    "import yahoo_fin.stock_info as si\n",
    "import spacy\n",
    "import cryptography\n",
    "from spacytextblob.spacytextblob import SpacyTextBlob\n",
    "\n",
    "%matplotlib inline"
   ]
  },
  {
   "cell_type": "markdown",
   "metadata": {},
   "source": [
    "### 0. Auxiliary functions\n",
    "\n",
    "We first define various functions for gathering the data from finnhub.io which we will use for training our algorithms."
   ]
  },
  {
   "cell_type": "markdown",
   "metadata": {},
   "source": [
    "Finnhub.io requires a client object to connect to their API. Please register for a free API key if you don't have one."
   ]
  },
  {
   "cell_type": "code",
   "execution_count": 28,
   "metadata": {},
   "outputs": [
    {
     "data": {
      "text/plain": [
       "<finnhub.client.Client at 0x1f5affcfc10>"
      ]
     },
     "execution_count": 28,
     "metadata": {},
     "output_type": "execute_result"
    }
   ],
   "source": [
    "key = os.environ.get('FINNHUB_API_KEY')\n",
    "client = fh.Client(api_key=key)\n",
    "client"
   ]
  },
  {
   "cell_type": "code",
   "execution_count": 29,
   "metadata": {},
   "outputs": [],
   "source": [
    "def get_ticker_financial_data(symbol, client):\n",
    "    \"\"\"\n",
    "    Builds a pandas dataframe containing the essential financial data of a US stock symbol.\n",
    "    @params symbol: a registered US stock symbol (ticker symbol).\n",
    "    @params client: a finnhub.io Client instance initialized with your finnhub.io API key.\n",
    "    @return: pandas Dataframe\n",
    "    \"\"\"\n",
    "\n",
    "    # Extract company profile\n",
    "    company_profile_dict = client.company_profile2(symbol=symbol)\n",
    "    del company_profile_dict['logo'], company_profile_dict['phone'], company_profile_dict['weburl'], company_profile_dict['ticker']\n",
    "    company_profile = pd.Series(company_profile_dict)\n",
    "\n",
    "    # Extract company financial metrics\n",
    "    company_financials_metrics = client.company_basic_financials(symbol=symbol, metric='all')['metric']\n",
    "    company_financials = pd.Series(company_financials_metrics)    \n",
    "\n",
    "    data = pd.concat([company_profile, company_financials])\n",
    "    return pd.DataFrame(data)\n",
    "\n",
    "def get_ticker_news_data(symbol, client, date_format, days):\n",
    "    \"\"\"\n",
    "    Builds a list of news summaries for a US stock symbol.\n",
    "    @params symbol: a registered US stock symbol (ticker symbol).\n",
    "    @params client: a finnhub.io Client instance initialized with your finnhub.io API key.\n",
    "    @return: List of news headlines for further processing\n",
    "    \"\"\"\n",
    "\n",
    "    today       = datetime.datetime.now(datetime.timezone.utc).replace(tzinfo=datetime.timezone.utc).timestamp()\n",
    "    date_delta  = today - days * 24 * 60 * 60\n",
    "    start_date  = datetime.datetime.fromtimestamp(date_delta).strftime(date_format)\n",
    "    today_date  = datetime.datetime.fromtimestamp(today).strftime(date_format)\n",
    "\n",
    "    news        = client.company_news(symbol=symbol, _from=start_date, to=today_date)\n",
    "    return news\n",
    "\n",
    "def get_ticker_financials_as_reported(symbol, client):\n",
    "    return client.financials_reported(symbol=symbol, freq='annual')['data']"
   ]
  },
  {
   "cell_type": "markdown",
   "metadata": {},
   "source": [
    "Testing to see if the functions work"
   ]
  },
  {
   "cell_type": "code",
   "execution_count": 30,
   "metadata": {},
   "outputs": [
    {
     "data": {
      "text/html": [
       "<div>\n",
       "<style scoped>\n",
       "    .dataframe tbody tr th:only-of-type {\n",
       "        vertical-align: middle;\n",
       "    }\n",
       "\n",
       "    .dataframe tbody tr th {\n",
       "        vertical-align: top;\n",
       "    }\n",
       "\n",
       "    .dataframe thead th {\n",
       "        text-align: right;\n",
       "    }\n",
       "</style>\n",
       "<table border=\"1\" class=\"dataframe\">\n",
       "  <thead>\n",
       "    <tr style=\"text-align: right;\">\n",
       "      <th></th>\n",
       "      <th>0</th>\n",
       "    </tr>\n",
       "  </thead>\n",
       "  <tbody>\n",
       "    <tr>\n",
       "      <th>country</th>\n",
       "      <td>US</td>\n",
       "    </tr>\n",
       "    <tr>\n",
       "      <th>currency</th>\n",
       "      <td>USD</td>\n",
       "    </tr>\n",
       "    <tr>\n",
       "      <th>exchange</th>\n",
       "      <td>NASDAQ NMS - GLOBAL MARKET</td>\n",
       "    </tr>\n",
       "    <tr>\n",
       "      <th>finnhubIndustry</th>\n",
       "      <td>Technology</td>\n",
       "    </tr>\n",
       "    <tr>\n",
       "      <th>ipo</th>\n",
       "      <td>1980-12-12</td>\n",
       "    </tr>\n",
       "    <tr>\n",
       "      <th>...</th>\n",
       "      <td>...</td>\n",
       "    </tr>\n",
       "    <tr>\n",
       "      <th>tangibleBookValuePerShareQuarterly</th>\n",
       "      <td>3.17824</td>\n",
       "    </tr>\n",
       "    <tr>\n",
       "      <th>tbvCagr5Y</th>\n",
       "      <td>-17.6806</td>\n",
       "    </tr>\n",
       "    <tr>\n",
       "      <th>totalDebt/totalEquityAnnual</th>\n",
       "      <td>238.8104</td>\n",
       "    </tr>\n",
       "    <tr>\n",
       "      <th>totalDebt/totalEquityQuarterly</th>\n",
       "      <td>236.9534</td>\n",
       "    </tr>\n",
       "    <tr>\n",
       "      <th>yearToDatePriceReturnDaily</th>\n",
       "      <td>-24.24959</td>\n",
       "    </tr>\n",
       "  </tbody>\n",
       "</table>\n",
       "<p>125 rows × 1 columns</p>\n",
       "</div>"
      ],
      "text/plain": [
       "                                                             0\n",
       "country                                                     US\n",
       "currency                                                   USD\n",
       "exchange                            NASDAQ NMS - GLOBAL MARKET\n",
       "finnhubIndustry                                     Technology\n",
       "ipo                                                 1980-12-12\n",
       "...                                                        ...\n",
       "tangibleBookValuePerShareQuarterly                     3.17824\n",
       "tbvCagr5Y                                             -17.6806\n",
       "totalDebt/totalEquityAnnual                           238.8104\n",
       "totalDebt/totalEquityQuarterly                        236.9534\n",
       "yearToDatePriceReturnDaily                           -24.24959\n",
       "\n",
       "[125 rows x 1 columns]"
      ]
     },
     "execution_count": 30,
     "metadata": {},
     "output_type": "execute_result"
    }
   ],
   "source": [
    "get_ticker_financial_data('AAPL', client)"
   ]
  },
  {
   "cell_type": "markdown",
   "metadata": {},
   "source": [
    "### 1. Fundamental - Sentiment analysis on news articles\n",
    "\n",
    "We can estimate how positive a news report is using sentiment analysis. This can be useful later on for finding the correlation between the positivity of a piece of news and the price trends of a symbol. We will be using the spaCy library for performing sentiment analysis on a given piece of news. Run the following command to install the en package which is required for spaCy:"
   ]
  },
  {
   "cell_type": "code",
   "execution_count": 31,
   "metadata": {
    "vscode": {
     "languageId": "powershell"
    }
   },
   "outputs": [
    {
     "name": "stdout",
     "output_type": "stream",
     "text": [
      "Collecting en-core-web-sm==3.4.1\n",
      "  Downloading https://github.com/explosion/spacy-models/releases/download/en_core_web_sm-3.4.1/en_core_web_sm-3.4.1-py3-none-any.whl (12.8 MB)\n",
      "     --------------------------------------- 12.8/12.8 MB 27.3 MB/s eta 0:00:00\n",
      "Requirement already satisfied: spacy<3.5.0,>=3.4.0 in d:\\coding\\projects\\real projects\\guiana-chestnut-algos\\venv\\lib\\site-packages (from en-core-web-sm==3.4.1) (3.4.3)\n",
      "Requirement already satisfied: packaging>=20.0 in d:\\coding\\projects\\real projects\\guiana-chestnut-algos\\venv\\lib\\site-packages (from spacy<3.5.0,>=3.4.0->en-core-web-sm==3.4.1) (21.3)\n",
      "Requirement already satisfied: spacy-loggers<2.0.0,>=1.0.0 in d:\\coding\\projects\\real projects\\guiana-chestnut-algos\\venv\\lib\\site-packages (from spacy<3.5.0,>=3.4.0->en-core-web-sm==3.4.1) (1.0.3)\n",
      "Requirement already satisfied: typer<0.8.0,>=0.3.0 in d:\\coding\\projects\\real projects\\guiana-chestnut-algos\\venv\\lib\\site-packages (from spacy<3.5.0,>=3.4.0->en-core-web-sm==3.4.1) (0.7.0)\n",
      "Requirement already satisfied: thinc<8.2.0,>=8.1.0 in d:\\coding\\projects\\real projects\\guiana-chestnut-algos\\venv\\lib\\site-packages (from spacy<3.5.0,>=3.4.0->en-core-web-sm==3.4.1) (8.1.5)\n",
      "Requirement already satisfied: pathy>=0.3.5 in d:\\coding\\projects\\real projects\\guiana-chestnut-algos\\venv\\lib\\site-packages (from spacy<3.5.0,>=3.4.0->en-core-web-sm==3.4.1) (0.8.1)\n",
      "Requirement already satisfied: wasabi<1.1.0,>=0.9.1 in d:\\coding\\projects\\real projects\\guiana-chestnut-algos\\venv\\lib\\site-packages (from spacy<3.5.0,>=3.4.0->en-core-web-sm==3.4.1) (0.10.1)\n",
      "Requirement already satisfied: jinja2 in d:\\coding\\projects\\real projects\\guiana-chestnut-algos\\venv\\lib\\site-packages (from spacy<3.5.0,>=3.4.0->en-core-web-sm==3.4.1) (3.1.2)\n",
      "Requirement already satisfied: srsly<3.0.0,>=2.4.3 in d:\\coding\\projects\\real projects\\guiana-chestnut-algos\\venv\\lib\\site-packages (from spacy<3.5.0,>=3.4.0->en-core-web-sm==3.4.1) (2.4.5)\n",
      "Requirement already satisfied: pydantic!=1.8,!=1.8.1,<1.11.0,>=1.7.4 in d:\\coding\\projects\\real projects\\guiana-chestnut-algos\\venv\\lib\\site-packages (from spacy<3.5.0,>=3.4.0->en-core-web-sm==3.4.1) (1.10.2)\n",
      "Requirement already satisfied: tqdm<5.0.0,>=4.38.0 in d:\\coding\\projects\\real projects\\guiana-chestnut-algos\\venv\\lib\\site-packages (from spacy<3.5.0,>=3.4.0->en-core-web-sm==3.4.1) (4.64.1)\n",
      "Requirement already satisfied: setuptools in d:\\coding\\projects\\real projects\\guiana-chestnut-algos\\venv\\lib\\site-packages (from spacy<3.5.0,>=3.4.0->en-core-web-sm==3.4.1) (65.5.0)\n",
      "Requirement already satisfied: spacy-legacy<3.1.0,>=3.0.10 in d:\\coding\\projects\\real projects\\guiana-chestnut-algos\\venv\\lib\\site-packages (from spacy<3.5.0,>=3.4.0->en-core-web-sm==3.4.1) (3.0.10)\n",
      "Requirement already satisfied: murmurhash<1.1.0,>=0.28.0 in d:\\coding\\projects\\real projects\\guiana-chestnut-algos\\venv\\lib\\site-packages (from spacy<3.5.0,>=3.4.0->en-core-web-sm==3.4.1) (1.0.9)\n",
      "Requirement already satisfied: cymem<2.1.0,>=2.0.2 in d:\\coding\\projects\\real projects\\guiana-chestnut-algos\\venv\\lib\\site-packages (from spacy<3.5.0,>=3.4.0->en-core-web-sm==3.4.1) (2.0.7)\n",
      "Requirement already satisfied: catalogue<2.1.0,>=2.0.6 in d:\\coding\\projects\\real projects\\guiana-chestnut-algos\\venv\\lib\\site-packages (from spacy<3.5.0,>=3.4.0->en-core-web-sm==3.4.1) (2.0.8)\n",
      "Requirement already satisfied: preshed<3.1.0,>=3.0.2 in d:\\coding\\projects\\real projects\\guiana-chestnut-algos\\venv\\lib\\site-packages (from spacy<3.5.0,>=3.4.0->en-core-web-sm==3.4.1) (3.0.8)\n",
      "Requirement already satisfied: numpy>=1.15.0 in d:\\coding\\projects\\real projects\\guiana-chestnut-algos\\venv\\lib\\site-packages (from spacy<3.5.0,>=3.4.0->en-core-web-sm==3.4.1) (1.23.4)\n",
      "Requirement already satisfied: requests<3.0.0,>=2.13.0 in d:\\coding\\projects\\real projects\\guiana-chestnut-algos\\venv\\lib\\site-packages (from spacy<3.5.0,>=3.4.0->en-core-web-sm==3.4.1) (2.28.1)\n",
      "Requirement already satisfied: langcodes<4.0.0,>=3.2.0 in d:\\coding\\projects\\real projects\\guiana-chestnut-algos\\venv\\lib\\site-packages (from spacy<3.5.0,>=3.4.0->en-core-web-sm==3.4.1) (3.3.0)\n",
      "Requirement already satisfied: pyparsing!=3.0.5,>=2.0.2 in d:\\coding\\projects\\real projects\\guiana-chestnut-algos\\venv\\lib\\site-packages (from packaging>=20.0->spacy<3.5.0,>=3.4.0->en-core-web-sm==3.4.1) (3.0.9)\n",
      "Requirement already satisfied: smart-open<6.0.0,>=5.2.1 in d:\\coding\\projects\\real projects\\guiana-chestnut-algos\\venv\\lib\\site-packages (from pathy>=0.3.5->spacy<3.5.0,>=3.4.0->en-core-web-sm==3.4.1) (5.2.1)\n",
      "Requirement already satisfied: typing-extensions>=4.1.0 in d:\\coding\\projects\\real projects\\guiana-chestnut-algos\\venv\\lib\\site-packages (from pydantic!=1.8,!=1.8.1,<1.11.0,>=1.7.4->spacy<3.5.0,>=3.4.0->en-core-web-sm==3.4.1) (4.4.0)\n",
      "Requirement already satisfied: urllib3<1.27,>=1.21.1 in d:\\coding\\projects\\real projects\\guiana-chestnut-algos\\venv\\lib\\site-packages (from requests<3.0.0,>=2.13.0->spacy<3.5.0,>=3.4.0->en-core-web-sm==3.4.1) (1.26.12)\n",
      "Requirement already satisfied: idna<4,>=2.5 in d:\\coding\\projects\\real projects\\guiana-chestnut-algos\\venv\\lib\\site-packages (from requests<3.0.0,>=2.13.0->spacy<3.5.0,>=3.4.0->en-core-web-sm==3.4.1) (3.4)\n",
      "Requirement already satisfied: charset-normalizer<3,>=2 in d:\\coding\\projects\\real projects\\guiana-chestnut-algos\\venv\\lib\\site-packages (from requests<3.0.0,>=2.13.0->spacy<3.5.0,>=3.4.0->en-core-web-sm==3.4.1) (2.1.1)\n",
      "Requirement already satisfied: certifi>=2017.4.17 in d:\\coding\\projects\\real projects\\guiana-chestnut-algos\\venv\\lib\\site-packages (from requests<3.0.0,>=2.13.0->spacy<3.5.0,>=3.4.0->en-core-web-sm==3.4.1) (2022.9.24)\n",
      "Requirement already satisfied: blis<0.8.0,>=0.7.8 in d:\\coding\\projects\\real projects\\guiana-chestnut-algos\\venv\\lib\\site-packages (from thinc<8.2.0,>=8.1.0->spacy<3.5.0,>=3.4.0->en-core-web-sm==3.4.1) (0.7.9)\n",
      "Requirement already satisfied: confection<1.0.0,>=0.0.1 in d:\\coding\\projects\\real projects\\guiana-chestnut-algos\\venv\\lib\\site-packages (from thinc<8.2.0,>=8.1.0->spacy<3.5.0,>=3.4.0->en-core-web-sm==3.4.1) (0.0.3)\n",
      "Requirement already satisfied: colorama in d:\\coding\\projects\\real projects\\guiana-chestnut-algos\\venv\\lib\\site-packages (from tqdm<5.0.0,>=4.38.0->spacy<3.5.0,>=3.4.0->en-core-web-sm==3.4.1) (0.4.6)\n",
      "Requirement already satisfied: click<9.0.0,>=7.1.1 in d:\\coding\\projects\\real projects\\guiana-chestnut-algos\\venv\\lib\\site-packages (from typer<0.8.0,>=0.3.0->spacy<3.5.0,>=3.4.0->en-core-web-sm==3.4.1) (8.1.3)\n",
      "Requirement already satisfied: MarkupSafe>=2.0 in d:\\coding\\projects\\real projects\\guiana-chestnut-algos\\venv\\lib\\site-packages (from jinja2->spacy<3.5.0,>=3.4.0->en-core-web-sm==3.4.1) (2.1.1)\n",
      "✔ Download and installation successful\n",
      "You can now load the package via spacy.load('en_core_web_sm')\n"
     ]
    },
    {
     "name": "stderr",
     "output_type": "stream",
     "text": [
      "2022-12-23 15:22:31.816849: W tensorflow/stream_executor/platform/default/dso_loader.cc:64] Could not load dynamic library 'cudart64_110.dll'; dlerror: cudart64_110.dll not found\n",
      "2022-12-23 15:22:31.817510: I tensorflow/stream_executor/cuda/cudart_stub.cc:29] Ignore above cudart dlerror if you do not have a GPU set up on your machine.\n",
      "2022-12-23 15:22:37.076273: W tensorflow/stream_executor/platform/default/dso_loader.cc:64] Could not load dynamic library 'cudart64_110.dll'; dlerror: cudart64_110.dll not found\n",
      "2022-12-23 15:22:37.078781: W tensorflow/stream_executor/platform/default/dso_loader.cc:64] Could not load dynamic library 'cublas64_11.dll'; dlerror: cublas64_11.dll not found\n",
      "2022-12-23 15:22:37.081314: W tensorflow/stream_executor/platform/default/dso_loader.cc:64] Could not load dynamic library 'cublasLt64_11.dll'; dlerror: cublasLt64_11.dll not found\n",
      "2022-12-23 15:22:37.083839: W tensorflow/stream_executor/platform/default/dso_loader.cc:64] Could not load dynamic library 'cufft64_10.dll'; dlerror: cufft64_10.dll not found\n",
      "2022-12-23 15:22:37.086292: W tensorflow/stream_executor/platform/default/dso_loader.cc:64] Could not load dynamic library 'curand64_10.dll'; dlerror: curand64_10.dll not found\n",
      "2022-12-23 15:22:37.089001: W tensorflow/stream_executor/platform/default/dso_loader.cc:64] Could not load dynamic library 'cusolver64_11.dll'; dlerror: cusolver64_11.dll not found\n",
      "2022-12-23 15:22:37.091516: W tensorflow/stream_executor/platform/default/dso_loader.cc:64] Could not load dynamic library 'cusparse64_11.dll'; dlerror: cusparse64_11.dll not found\n",
      "2022-12-23 15:22:37.093966: W tensorflow/stream_executor/platform/default/dso_loader.cc:64] Could not load dynamic library 'cudnn64_8.dll'; dlerror: cudnn64_8.dll not found\n",
      "2022-12-23 15:22:37.094556: W tensorflow/core/common_runtime/gpu/gpu_device.cc:1934] Cannot dlopen some GPU libraries. Please make sure the missing libraries mentioned above are installed properly if you would like to use GPU. Follow the guide at https://www.tensorflow.org/install/gpu for how to download and setup the required libraries for your platform.\n",
      "Skipping registering GPU devices...\n"
     ]
    },
    {
     "name": "stdout",
     "output_type": "stream",
     "text": [
      "^C\n"
     ]
    }
   ],
   "source": [
    "! python -m spacy download en_core_web_sm\n",
    "! python -m spacy download en_core_web_lg"
   ]
  },
  {
   "cell_type": "markdown",
   "metadata": {},
   "source": [
    "With the english package installed, we can now perform sentiment analyisis."
   ]
  },
  {
   "cell_type": "markdown",
   "metadata": {},
   "source": [
    "Important sentiment terms:\n",
    "\n",
    "- Polarity refers to the orientation of the expressed statement. It should be a float between 1 (positive) and -1 (negative).\n",
    "- Subjectivity refers to the amount of personal bias in the expressed statement. It should be a float between 0 (personal) and 1 (public)."
   ]
  },
  {
   "cell_type": "code",
   "execution_count": 32,
   "metadata": {
    "vscode": {
     "languageId": "powershell"
    }
   },
   "outputs": [
    {
     "data": {
      "text/plain": [
       "<spacytextblob.spacytextblob.SpacyTextBlob at 0x1f5322ccf40>"
      ]
     },
     "execution_count": 32,
     "metadata": {},
     "output_type": "execute_result"
    }
   ],
   "source": [
    "nlp = spacy.load('en_core_web_lg')\n",
    "nlp.add_pipe('spacytextblob')"
   ]
  },
  {
   "cell_type": "code",
   "execution_count": 33,
   "metadata": {},
   "outputs": [],
   "source": [
    "symbol = 'AAPL'"
   ]
  },
  {
   "cell_type": "code",
   "execution_count": 34,
   "metadata": {},
   "outputs": [],
   "source": [
    "def get_ticker_news_sentiment_analysis(symbol, client):\n",
    "\n",
    "    polarities, subjectivities, dates = [], [], []\n",
    "\n",
    "    ticker_news = get_ticker_news_data(symbol, client, days=20, date_format=\"%Y-%m-%d\")\n",
    "\n",
    "    for news in reversed(ticker_news):\n",
    "        news_summary, news_date = news['summary'], news['datetime']\n",
    "\n",
    "        # For now, assume that weekend news doesn't affect the monday share price.\n",
    "        weekday = datetime.datetime.fromtimestamp(news_date).weekday()\n",
    "\n",
    "        # if weekday != 5 and weekday != 6:\n",
    "        result = nlp(news_summary)\n",
    "        news_sentiment = result._.blob.sentiment\n",
    "        news_polarity, news_subjectivity = news_sentiment.polarity, news_sentiment.subjectivity\n",
    "        polarities.append(news_polarity)\n",
    "        subjectivities.append(news_subjectivity)\n",
    "        dates.append(datetime.datetime.fromtimestamp(news_date).strftime(\"%Y-%m-%d\"))\n",
    "    \n",
    "    return polarities, subjectivities, dates"
   ]
  },
  {
   "cell_type": "code",
   "execution_count": 35,
   "metadata": {},
   "outputs": [
    {
     "data": {
      "text/html": [
       "<div>\n",
       "<style scoped>\n",
       "    .dataframe tbody tr th:only-of-type {\n",
       "        vertical-align: middle;\n",
       "    }\n",
       "\n",
       "    .dataframe tbody tr th {\n",
       "        vertical-align: top;\n",
       "    }\n",
       "\n",
       "    .dataframe thead th {\n",
       "        text-align: right;\n",
       "    }\n",
       "</style>\n",
       "<table border=\"1\" class=\"dataframe\">\n",
       "  <thead>\n",
       "    <tr style=\"text-align: right;\">\n",
       "      <th></th>\n",
       "      <th>Date</th>\n",
       "      <th>Polarity</th>\n",
       "      <th>Subjectivity</th>\n",
       "    </tr>\n",
       "  </thead>\n",
       "  <tbody>\n",
       "    <tr>\n",
       "      <th>0</th>\n",
       "      <td>2022-12-13</td>\n",
       "      <td>0.387500</td>\n",
       "      <td>0.487500</td>\n",
       "    </tr>\n",
       "    <tr>\n",
       "      <th>1</th>\n",
       "      <td>2022-12-13</td>\n",
       "      <td>-0.116667</td>\n",
       "      <td>0.466667</td>\n",
       "    </tr>\n",
       "    <tr>\n",
       "      <th>2</th>\n",
       "      <td>2022-12-13</td>\n",
       "      <td>0.068182</td>\n",
       "      <td>0.300000</td>\n",
       "    </tr>\n",
       "    <tr>\n",
       "      <th>3</th>\n",
       "      <td>2022-12-13</td>\n",
       "      <td>0.076667</td>\n",
       "      <td>0.413333</td>\n",
       "    </tr>\n",
       "    <tr>\n",
       "      <th>4</th>\n",
       "      <td>2022-12-13</td>\n",
       "      <td>0.000000</td>\n",
       "      <td>0.000000</td>\n",
       "    </tr>\n",
       "    <tr>\n",
       "      <th>...</th>\n",
       "      <td>...</td>\n",
       "      <td>...</td>\n",
       "      <td>...</td>\n",
       "    </tr>\n",
       "    <tr>\n",
       "      <th>232</th>\n",
       "      <td>2022-12-23</td>\n",
       "      <td>0.000000</td>\n",
       "      <td>0.000000</td>\n",
       "    </tr>\n",
       "    <tr>\n",
       "      <th>233</th>\n",
       "      <td>2022-12-23</td>\n",
       "      <td>0.250000</td>\n",
       "      <td>0.750000</td>\n",
       "    </tr>\n",
       "    <tr>\n",
       "      <th>234</th>\n",
       "      <td>2022-12-23</td>\n",
       "      <td>0.333333</td>\n",
       "      <td>0.316667</td>\n",
       "    </tr>\n",
       "    <tr>\n",
       "      <th>235</th>\n",
       "      <td>2022-12-23</td>\n",
       "      <td>0.125000</td>\n",
       "      <td>0.375000</td>\n",
       "    </tr>\n",
       "    <tr>\n",
       "      <th>236</th>\n",
       "      <td>2022-12-23</td>\n",
       "      <td>0.500000</td>\n",
       "      <td>0.500000</td>\n",
       "    </tr>\n",
       "  </tbody>\n",
       "</table>\n",
       "<p>237 rows × 3 columns</p>\n",
       "</div>"
      ],
      "text/plain": [
       "           Date  Polarity  Subjectivity\n",
       "0    2022-12-13  0.387500      0.487500\n",
       "1    2022-12-13 -0.116667      0.466667\n",
       "2    2022-12-13  0.068182      0.300000\n",
       "3    2022-12-13  0.076667      0.413333\n",
       "4    2022-12-13  0.000000      0.000000\n",
       "..          ...       ...           ...\n",
       "232  2022-12-23  0.000000      0.000000\n",
       "233  2022-12-23  0.250000      0.750000\n",
       "234  2022-12-23  0.333333      0.316667\n",
       "235  2022-12-23  0.125000      0.375000\n",
       "236  2022-12-23  0.500000      0.500000\n",
       "\n",
       "[237 rows x 3 columns]"
      ]
     },
     "execution_count": 35,
     "metadata": {},
     "output_type": "execute_result"
    }
   ],
   "source": [
    "polarities, subjectivities, dates = get_ticker_news_sentiment_analysis(symbol, client)\n",
    "pd.DataFrame.from_dict({'Date': dates, 'Polarity': polarities, 'Subjectivity': subjectivities})"
   ]
  },
  {
   "cell_type": "markdown",
   "metadata": {},
   "source": [
    "Let's also plot the polarities against the dates to see if there is any trend"
   ]
  },
  {
   "cell_type": "code",
   "execution_count": 36,
   "metadata": {},
   "outputs": [
    {
     "data": {
      "text/plain": [
       "<matplotlib.collections.PathCollection at 0x1f5323126a0>"
      ]
     },
     "execution_count": 36,
     "metadata": {},
     "output_type": "execute_result"
    },
    {
     "data": {
      "image/png": "[encoded data removed]",
      "text/plain": [
       "<Figure size 640x480 with 1 Axes>"
      ]
     },
     "metadata": {},
     "output_type": "display_data"
    }
   ],
   "source": [
    "plt.scatter(dates, polarities, c='blue')"
   ]
  },
  {
   "cell_type": "markdown",
   "metadata": {},
   "source": [
    "### 3. Fundamnetal - Piotroski F-score\n",
    "The Piotroski F-score is a number between 0 and 9 which is used to access the strength of a company's financial position. This score is used by financial investors in order to find the best value stocks (9 being the best).\n",
    "\n",
    "The score is calculated based on 9 criteria divided into 3 groups:\n",
    "\n",
    "#### Profitability\n",
    "1. Return on assets (1 if positive this year, 0 otherwise)\n",
    "2. Operating cash flow (1 if positive this year, 0 otherwise)\n",
    "3. Change in Return of Assets (ROA) (1 if higher than last year, 0 otherwise)\n",
    "4. Accruals (1 if Operating Cash Flow Total Assets is higher than ROA this year, 0 otherwise)\n",
    "   \n",
    "#### Leverage, Liquidity & Source of Funds\n",
    "1. Change in Leverage (long-term) ratio (1 if ratio lower than last year, 0 otherwise)\n",
    "2. Change in Current Ratio (1 if ratio is higher than last year, 0 otherwise)\n",
    "3. Change in the number of shares (1 if no new shares were issued during the last year, 0 otherwise)\n",
    "\n",
    "#### Operating Efficiency\n",
    "8. Change in Gross Margin (1 if higher than last year, 0 otherwise)\n",
    "9. Change in Asset Turnover Ratio (1 if higher than last year, 0 otherwise)\n",
    "\n",
    "Resource: https://en.wikipedia.org/wiki/Piotroski_F-score\n"
   ]
  },
  {
   "cell_type": "markdown",
   "metadata": {},
   "source": [
    "### Create functions for calculating Piotroski F-score criteria\n",
    "We will use the [yahoo_fin](http://theautomatic.net/yahoo_fin-documentation/) package to calculate Piotroski F-scores for each symbol in the S&Q 500 Index."
   ]
  },
  {
   "cell_type": "code",
   "execution_count": 37,
   "metadata": {},
   "outputs": [],
   "source": [
    "class PiotroskiFScore:\n",
    "    def __init__(self, tickers):\n",
    "        self.tickers = tickers\n",
    "    \n",
    "\n",
    "    def get_data(self, ticker):\n",
    "        \"\"\"\n",
    "        Extract financial metrics for Piotroski F-score calculation.\n",
    "        \"\"\"\n",
    "        balance_sheet   = ticker.balance_sheet\n",
    "        income_smt      = None\n",
    "        cfs             = ticker.cashflow\n",
    "        years           = balance_sheet.columns\n",
    "        print(balance_sheet)\n",
    "        print(cfs)\n",
    "        print(years)\n",
    "        return balance_sheet, income_smt, cfs, years\n",
    "    \n",
    "\n",
    "    def get_profitability_score(self, balance_sheet, income_smt, cfs, years):\n",
    "        \"\"\"\n",
    "        Return a score between 0 and 5 for the 5 criteria on profitability.\n",
    "        \"\"\"\n",
    "        # Scores 1 & 2 - Net income\n",
    "        net_income      = income_smt[years[0]]['netIncome']\n",
    "        net_income_py   = income_smt[years[1]]['netIncome']\n",
    "        ni_score        = 1 if net_income > 0 else 0\n",
    "        ni_delta_score  = 1 if net_income > net_income_py else 0\n",
    "\n",
    "        # Score 3 - Operating cash flow\n",
    "        op_cf           = cfs[years[0]]['totalCashFromOperatingActivities']\n",
    "        op_cf_score     = 1 if op_cf > 0 else 0\n",
    "\n",
    "        # Score 4 - Change in RoA\n",
    "        avg_assets      = (balance_sheet[years[0]]['totalAssets'] + balance_sheet[years[1]]['totalAssets']) / 2\n",
    "        avg_assets_py   = (balance_sheet[years[1]]['totalAssets'] + balance_sheet[years[2]]['totalAssets']) / 2\n",
    "        roa             = net_income / avg_assets\n",
    "        roa_py          = net_income_py / avg_assets_py\n",
    "        roa_score       = 1 if roa > roa_py else 0\n",
    "\n",
    "        # Score 5 - Accurals\n",
    "        total_assets    = balance_sheet[years[0]]['totalAssets']\n",
    "        accurals        = op_cf / total_assets - roa\n",
    "        acc_score       = 1 if accurals > 0 else 0\n",
    "\n",
    "        # Return a score between 0 and 5 (for 5 criteria on profitability)\n",
    "        return ni_score + ni_delta_score + op_cf_score + roa_score + acc_score\n",
    "    \n",
    "    def get_piotroski_fscore(self, ticker):\n",
    "        \"\"\"\n",
    "        Calculate the Piotroski F-score for a single ticker.\n",
    "        \"\"\"\n",
    "        balance_sheet, income_smt, cfs, years = self.get_data(ticker)\n",
    "        profitability_score     = self.get_profitability_score(balance_sheet, income_smt, cfs, years)\n",
    "    \n",
    "\n",
    "    def get_all_piotroski_fscores(self):\n",
    "        \"\"\"\n",
    "        Calculate the Piotroski F-score for all tickers provided from initialisation.\n",
    "        \"\"\"\n",
    "        pf_scores       = {}\n",
    "        for ticker in self.tickers:\n",
    "            symbol = ticker\n",
    "            ticker = yf.Ticker(symbol)\n",
    "            pf_scores[symbol] = self.get_piotroski_fscore(ticker)\n",
    "        return pf_scores"
   ]
  },
  {
   "cell_type": "markdown",
   "metadata": {},
   "source": [
    "Test the above class on the S&Q 500 Index symbols."
   ]
  },
  {
   "cell_type": "code",
   "execution_count": 59,
   "metadata": {},
   "outputs": [
    {
     "ename": "AttributeError",
     "evalue": "'Ticker' object has no attribute 'get_incomestmt'",
     "output_type": "error",
     "traceback": [
      "\u001b[1;31m---------------------------------------------------------------------------\u001b[0m",
      "\u001b[1;31mAttributeError\u001b[0m                            Traceback (most recent call last)",
      "Cell \u001b[1;32mIn [59], line 5\u001b[0m\n\u001b[0;32m      1\u001b[0m \u001b[39m# sq500     = si.tickers_sp500(include_company_data=False)\u001b[39;00m\n\u001b[0;32m      2\u001b[0m \u001b[39m# pf_scores = PiotroskiFScore([\"AAPL\"]).get_all_piotroski_fscores()\u001b[39;00m\n\u001b[0;32m      3\u001b[0m \u001b[39m# print(pf_scores)\u001b[39;00m\n\u001b[0;32m      4\u001b[0m msft \u001b[39m=\u001b[39m yf\u001b[39m.\u001b[39mTicker(\u001b[39m\"\u001b[39m\u001b[39mTSLA\u001b[39m\u001b[39m\"\u001b[39m)\n\u001b[1;32m----> 5\u001b[0m msft\u001b[39m.\u001b[39;49mget_incomestmt()\n",
      "\u001b[1;31mAttributeError\u001b[0m: 'Ticker' object has no attribute 'get_incomestmt'"
     ]
    }
   ],
   "source": [
    "sq500     = si.tickers_sp500(include_company_data=False)\n",
    "pf_scores = PiotroskiFScore([\"AAPL\"]).get_all_piotroski_fscores()\n",
    "print(pf_scores)"
   ]
  }
 ],
 "metadata": {
  "kernelspec": {
   "display_name": "Python 3.9.7 ('venv': venv)",
   "language": "python",
   "name": "python3"
  },
  "language_info": {
   "codemirror_mode": {
    "name": "ipython",
    "version": 3
   },
   "file_extension": ".py",
   "mimetype": "text/x-python",
   "name": "python",
   "nbconvert_exporter": "python",
   "pygments_lexer": "ipython3",
   "version": "3.9.7"
  },
  "orig_nbformat": 4,
  "vscode": {
   "interpreter": {
    "hash": "13cf411eb4f467826d558bf5758c0858958fff6af02217e9f003bef36041d731"
   }
  }
 },
 "nbformat": 4,
 "nbformat_minor": 2
}
