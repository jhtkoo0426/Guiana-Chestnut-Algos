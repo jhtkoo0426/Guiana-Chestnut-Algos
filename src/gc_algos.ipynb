{
 "cells": [
  {
   "cell_type": "markdown",
   "metadata": {},
   "source": [
    "# Guiana Chestnut algorithms\n",
    "This notebook will aim to build several algorithms for fundamental and technical analysis of US stock symbols.\n",
    "\n",
    "We will be using the [finnhub.io](https://finnhub.io/docs/api) API to download financial data for US stock symbols"
   ]
  },
  {
   "cell_type": "markdown",
   "metadata": {},
   "source": [
    "### Packages\n",
    "Please ensure these packages are installed on your local environment via ```pip install -r requirements.txt``` or the corresponding package manager on your OS."
   ]
  },
  {
   "cell_type": "code",
   "execution_count": 20,
   "metadata": {},
   "outputs": [],
   "source": [
    "import csv\n",
    "import numpy as np\n",
    "import pandas as pd\n",
    "import os\n",
    "import datetime\n",
    "import matplotlib.pyplot as plt\n",
    "\n",
    "import finnhub as fh\n",
    "import spacy\n",
    "\n",
    "%matplotlib inline"
   ]
  },
  {
   "cell_type": "markdown",
   "metadata": {},
   "source": [
    "### 0. Essential functions\n",
    "\n",
    "We first define various functions for gathering the data from finnhub.io which we will use for training our algorithms."
   ]
  },
  {
   "cell_type": "markdown",
   "metadata": {},
   "source": [
    "Finnhub.io requires a client object to connect to their API. Please register for a free API key if you don't have one."
   ]
  },
  {
   "cell_type": "code",
   "execution_count": 2,
   "metadata": {},
   "outputs": [
    {
     "data": {
      "text/plain": [
       "<finnhub.client.Client at 0x7fce16c47250>"
      ]
     },
     "execution_count": 2,
     "metadata": {},
     "output_type": "execute_result"
    }
   ],
   "source": [
    "key = os.environ.get('FINNHUB_API_KEY')\n",
    "client = fh.Client(api_key=key)\n",
    "client"
   ]
  },
  {
   "cell_type": "code",
   "execution_count": 11,
   "metadata": {},
   "outputs": [],
   "source": [
    "def get_ticker_financial_data(symbol, client):\n",
    "    \"\"\"\n",
    "    Builds a pandas dataframe containing the essential financial data of a US stock symbol.\n",
    "    @params symbol: a registered US stock symbol (ticker symbol).\n",
    "    @params client: a finnhub.io Client instance initialized with your finnhub.io API key.\n",
    "    @return: pandas Dataframe\n",
    "    \"\"\"\n",
    "\n",
    "    # Extract company profile\n",
    "    company_profile_dict = client.company_profile2(symbol=symbol)\n",
    "    del company_profile_dict['logo'], company_profile_dict['phone'], company_profile_dict['weburl'], company_profile_dict['ticker']\n",
    "    company_profile = pd.Series(company_profile_dict)\n",
    "\n",
    "    # Extract company financial metrics\n",
    "    company_financials_metrics = client.company_basic_financials(symbol=symbol, metric='all')['metric']\n",
    "    company_financials = pd.Series(company_financials_metrics)    \n",
    "\n",
    "    data = pd.concat([company_profile, company_financials])\n",
    "    return pd.DataFrame(data)\n",
    "\n",
    "def get_ticker_news_data(symbol, client, date_format, days=7):\n",
    "    \"\"\"\n",
    "    Builds a list of news summaries for a US stock symbol.\n",
    "    @params symbol: a registered US stock symbol (ticker symbol).\n",
    "    @params client: a finnhub.io Client instance initialized with your finnhub.io API key.\n",
    "    @return: List of news headlines for further processing\n",
    "    \"\"\"\n",
    "\n",
    "    today       = datetime.datetime.now(datetime.timezone.utc).replace(tzinfo=datetime.timezone.utc).timestamp()\n",
    "    date_delta  = today - days * 24 * 60 * 60\n",
    "    start_date  = datetime.datetime.fromtimestamp(date_delta).strftime(date_format)\n",
    "    today_date  = datetime.datetime.fromtimestamp(today).strftime(date_format)\n",
    "\n",
    "    news        = client.company_news(symbol=symbol, _from=start_date, to=today_date)\n",
    "    return news"
   ]
  },
  {
   "cell_type": "markdown",
   "metadata": {},
   "source": [
    "### 1. Fundamental analysis on symbol\n",
    "\n",
    "This section focuses on finding patterns in the financial information of all US symbols (correlations, covariances, etc.)."
   ]
  },
  {
   "cell_type": "code",
   "execution_count": 4,
   "metadata": {},
   "outputs": [],
   "source": [
    "symbol = 'AAPL'"
   ]
  },
  {
   "cell_type": "code",
   "execution_count": 5,
   "metadata": {},
   "outputs": [
    {
     "data": {
      "text/html": [
       "<div>\n",
       "<style scoped>\n",
       "    .dataframe tbody tr th:only-of-type {\n",
       "        vertical-align: middle;\n",
       "    }\n",
       "\n",
       "    .dataframe tbody tr th {\n",
       "        vertical-align: top;\n",
       "    }\n",
       "\n",
       "    .dataframe thead th {\n",
       "        text-align: right;\n",
       "    }\n",
       "</style>\n",
       "<table border=\"1\" class=\"dataframe\">\n",
       "  <thead>\n",
       "    <tr style=\"text-align: right;\">\n",
       "      <th></th>\n",
       "      <th>0</th>\n",
       "    </tr>\n",
       "  </thead>\n",
       "  <tbody>\n",
       "    <tr>\n",
       "      <th>country</th>\n",
       "      <td>US</td>\n",
       "    </tr>\n",
       "    <tr>\n",
       "      <th>currency</th>\n",
       "      <td>USD</td>\n",
       "    </tr>\n",
       "    <tr>\n",
       "      <th>exchange</th>\n",
       "      <td>NASDAQ NMS - GLOBAL MARKET</td>\n",
       "    </tr>\n",
       "    <tr>\n",
       "      <th>finnhubIndustry</th>\n",
       "      <td>Technology</td>\n",
       "    </tr>\n",
       "    <tr>\n",
       "      <th>ipo</th>\n",
       "      <td>1980-12-12</td>\n",
       "    </tr>\n",
       "    <tr>\n",
       "      <th>...</th>\n",
       "      <td>...</td>\n",
       "    </tr>\n",
       "    <tr>\n",
       "      <th>tangibleBookValuePerShareQuarterly</th>\n",
       "      <td>3.17824</td>\n",
       "    </tr>\n",
       "    <tr>\n",
       "      <th>tbvCagr5Y</th>\n",
       "      <td>-17.6806</td>\n",
       "    </tr>\n",
       "    <tr>\n",
       "      <th>totalDebt/totalEquityAnnual</th>\n",
       "      <td>238.8104</td>\n",
       "    </tr>\n",
       "    <tr>\n",
       "      <th>totalDebt/totalEquityQuarterly</th>\n",
       "      <td>236.9534</td>\n",
       "    </tr>\n",
       "    <tr>\n",
       "      <th>yearToDatePriceReturnDaily</th>\n",
       "      <td>-15.69522</td>\n",
       "    </tr>\n",
       "  </tbody>\n",
       "</table>\n",
       "<p>125 rows × 1 columns</p>\n",
       "</div>"
      ],
      "text/plain": [
       "                                                             0\n",
       "country                                                     US\n",
       "currency                                                   USD\n",
       "exchange                            NASDAQ NMS - GLOBAL MARKET\n",
       "finnhubIndustry                                     Technology\n",
       "ipo                                                 1980-12-12\n",
       "...                                                        ...\n",
       "tangibleBookValuePerShareQuarterly                     3.17824\n",
       "tbvCagr5Y                                             -17.6806\n",
       "totalDebt/totalEquityAnnual                           238.8104\n",
       "totalDebt/totalEquityQuarterly                        236.9534\n",
       "yearToDatePriceReturnDaily                           -15.69522\n",
       "\n",
       "[125 rows x 1 columns]"
      ]
     },
     "execution_count": 5,
     "metadata": {},
     "output_type": "execute_result"
    }
   ],
   "source": [
    "get_ticker_financial_data(symbol, client)"
   ]
  },
  {
   "cell_type": "markdown",
   "metadata": {},
   "source": [
    "### 2. Fundamental - Sentiment analysis on news\n",
    "\n",
    "We can estimate how positive a news report is using sentiment analysis. This can be useful later on for finding the correlation between the positivity of a piece of news and the price trends of a symbol."
   ]
  },
  {
   "cell_type": "markdown",
   "metadata": {},
   "source": [
    "We will be using the spaCy library for performing sentiment analysis on a given piece of news. Run the following command to install the en package which is required for spaCy:"
   ]
  },
  {
   "cell_type": "code",
   "execution_count": 6,
   "metadata": {
    "vscode": {
     "languageId": "powershell"
    }
   },
   "outputs": [
    {
     "name": "stdout",
     "output_type": "stream",
     "text": [
      "Collecting en-core-web-sm==3.4.1\n",
      "  Downloading https://github.com/explosion/spacy-models/releases/download/en_core_web_sm-3.4.1/en_core_web_sm-3.4.1-py3-none-any.whl (12.8 MB)\n",
      "\u001b[2K     \u001b[90m━━━━━━━━━━━━━━━━━━━━━━━━━━━━━━━━━━━━━━━━\u001b[0m \u001b[32m12.8/12.8 MB\u001b[0m \u001b[31m9.6 MB/s\u001b[0m eta \u001b[36m0:00:00\u001b[0m:00:01\u001b[0m0:01\u001b[0m\n",
      "\u001b[?25hRequirement already satisfied: spacy<3.5.0,>=3.4.0 in /home/justinkoo/Projects/Guiana-Chestnut-Algos/venv/lib/python3.10/site-packages (from en-core-web-sm==3.4.1) (3.4.3)\n",
      "Requirement already satisfied: packaging>=20.0 in /home/justinkoo/Projects/Guiana-Chestnut-Algos/venv/lib/python3.10/site-packages (from spacy<3.5.0,>=3.4.0->en-core-web-sm==3.4.1) (21.3)\n",
      "Requirement already satisfied: pydantic!=1.8,!=1.8.1,<1.11.0,>=1.7.4 in /home/justinkoo/Projects/Guiana-Chestnut-Algos/venv/lib/python3.10/site-packages (from spacy<3.5.0,>=3.4.0->en-core-web-sm==3.4.1) (1.10.2)\n",
      "Requirement already satisfied: spacy-legacy<3.1.0,>=3.0.10 in /home/justinkoo/Projects/Guiana-Chestnut-Algos/venv/lib/python3.10/site-packages (from spacy<3.5.0,>=3.4.0->en-core-web-sm==3.4.1) (3.0.10)\n",
      "Requirement already satisfied: wasabi<1.1.0,>=0.9.1 in /home/justinkoo/Projects/Guiana-Chestnut-Algos/venv/lib/python3.10/site-packages (from spacy<3.5.0,>=3.4.0->en-core-web-sm==3.4.1) (0.10.1)\n",
      "Requirement already satisfied: cymem<2.1.0,>=2.0.2 in /home/justinkoo/Projects/Guiana-Chestnut-Algos/venv/lib/python3.10/site-packages (from spacy<3.5.0,>=3.4.0->en-core-web-sm==3.4.1) (2.0.7)\n",
      "Requirement already satisfied: setuptools in /home/justinkoo/Projects/Guiana-Chestnut-Algos/venv/lib/python3.10/site-packages (from spacy<3.5.0,>=3.4.0->en-core-web-sm==3.4.1) (65.5.0)\n",
      "Requirement already satisfied: tqdm<5.0.0,>=4.38.0 in /home/justinkoo/Projects/Guiana-Chestnut-Algos/venv/lib/python3.10/site-packages (from spacy<3.5.0,>=3.4.0->en-core-web-sm==3.4.1) (4.64.1)\n",
      "Requirement already satisfied: typer<0.8.0,>=0.3.0 in /home/justinkoo/Projects/Guiana-Chestnut-Algos/venv/lib/python3.10/site-packages (from spacy<3.5.0,>=3.4.0->en-core-web-sm==3.4.1) (0.7.0)\n",
      "Requirement already satisfied: preshed<3.1.0,>=3.0.2 in /home/justinkoo/Projects/Guiana-Chestnut-Algos/venv/lib/python3.10/site-packages (from spacy<3.5.0,>=3.4.0->en-core-web-sm==3.4.1) (3.0.8)\n",
      "Requirement already satisfied: thinc<8.2.0,>=8.1.0 in /home/justinkoo/Projects/Guiana-Chestnut-Algos/venv/lib/python3.10/site-packages (from spacy<3.5.0,>=3.4.0->en-core-web-sm==3.4.1) (8.1.5)\n",
      "Requirement already satisfied: requests<3.0.0,>=2.13.0 in /home/justinkoo/Projects/Guiana-Chestnut-Algos/venv/lib/python3.10/site-packages (from spacy<3.5.0,>=3.4.0->en-core-web-sm==3.4.1) (2.28.1)\n",
      "Requirement already satisfied: pathy>=0.3.5 in /home/justinkoo/Projects/Guiana-Chestnut-Algos/venv/lib/python3.10/site-packages (from spacy<3.5.0,>=3.4.0->en-core-web-sm==3.4.1) (0.8.1)\n",
      "Requirement already satisfied: langcodes<4.0.0,>=3.2.0 in /home/justinkoo/Projects/Guiana-Chestnut-Algos/venv/lib/python3.10/site-packages (from spacy<3.5.0,>=3.4.0->en-core-web-sm==3.4.1) (3.3.0)\n",
      "Requirement already satisfied: srsly<3.0.0,>=2.4.3 in /home/justinkoo/Projects/Guiana-Chestnut-Algos/venv/lib/python3.10/site-packages (from spacy<3.5.0,>=3.4.0->en-core-web-sm==3.4.1) (2.4.5)\n",
      "Requirement already satisfied: catalogue<2.1.0,>=2.0.6 in /home/justinkoo/Projects/Guiana-Chestnut-Algos/venv/lib/python3.10/site-packages (from spacy<3.5.0,>=3.4.0->en-core-web-sm==3.4.1) (2.0.8)\n",
      "Requirement already satisfied: murmurhash<1.1.0,>=0.28.0 in /home/justinkoo/Projects/Guiana-Chestnut-Algos/venv/lib/python3.10/site-packages (from spacy<3.5.0,>=3.4.0->en-core-web-sm==3.4.1) (1.0.9)\n",
      "Requirement already satisfied: jinja2 in /home/justinkoo/Projects/Guiana-Chestnut-Algos/venv/lib/python3.10/site-packages (from spacy<3.5.0,>=3.4.0->en-core-web-sm==3.4.1) (3.1.2)\n",
      "Requirement already satisfied: numpy>=1.15.0 in /home/justinkoo/Projects/Guiana-Chestnut-Algos/venv/lib/python3.10/site-packages (from spacy<3.5.0,>=3.4.0->en-core-web-sm==3.4.1) (1.23.4)\n",
      "Requirement already satisfied: spacy-loggers<2.0.0,>=1.0.0 in /home/justinkoo/Projects/Guiana-Chestnut-Algos/venv/lib/python3.10/site-packages (from spacy<3.5.0,>=3.4.0->en-core-web-sm==3.4.1) (1.0.3)\n",
      "Requirement already satisfied: pyparsing!=3.0.5,>=2.0.2 in /home/justinkoo/Projects/Guiana-Chestnut-Algos/venv/lib/python3.10/site-packages (from packaging>=20.0->spacy<3.5.0,>=3.4.0->en-core-web-sm==3.4.1) (3.0.9)\n",
      "Requirement already satisfied: smart-open<6.0.0,>=5.2.1 in /home/justinkoo/Projects/Guiana-Chestnut-Algos/venv/lib/python3.10/site-packages (from pathy>=0.3.5->spacy<3.5.0,>=3.4.0->en-core-web-sm==3.4.1) (5.2.1)\n",
      "Requirement already satisfied: typing-extensions>=4.1.0 in /home/justinkoo/Projects/Guiana-Chestnut-Algos/venv/lib/python3.10/site-packages (from pydantic!=1.8,!=1.8.1,<1.11.0,>=1.7.4->spacy<3.5.0,>=3.4.0->en-core-web-sm==3.4.1) (4.4.0)\n",
      "Requirement already satisfied: certifi>=2017.4.17 in /home/justinkoo/Projects/Guiana-Chestnut-Algos/venv/lib/python3.10/site-packages (from requests<3.0.0,>=2.13.0->spacy<3.5.0,>=3.4.0->en-core-web-sm==3.4.1) (2022.9.24)\n",
      "Requirement already satisfied: idna<4,>=2.5 in /home/justinkoo/Projects/Guiana-Chestnut-Algos/venv/lib/python3.10/site-packages (from requests<3.0.0,>=2.13.0->spacy<3.5.0,>=3.4.0->en-core-web-sm==3.4.1) (3.4)\n",
      "Requirement already satisfied: urllib3<1.27,>=1.21.1 in /home/justinkoo/Projects/Guiana-Chestnut-Algos/venv/lib/python3.10/site-packages (from requests<3.0.0,>=2.13.0->spacy<3.5.0,>=3.4.0->en-core-web-sm==3.4.1) (1.26.12)\n",
      "Requirement already satisfied: charset-normalizer<3,>=2 in /home/justinkoo/Projects/Guiana-Chestnut-Algos/venv/lib/python3.10/site-packages (from requests<3.0.0,>=2.13.0->spacy<3.5.0,>=3.4.0->en-core-web-sm==3.4.1) (2.1.1)\n",
      "Requirement already satisfied: blis<0.8.0,>=0.7.8 in /home/justinkoo/Projects/Guiana-Chestnut-Algos/venv/lib/python3.10/site-packages (from thinc<8.2.0,>=8.1.0->spacy<3.5.0,>=3.4.0->en-core-web-sm==3.4.1) (0.7.9)\n",
      "Requirement already satisfied: confection<1.0.0,>=0.0.1 in /home/justinkoo/Projects/Guiana-Chestnut-Algos/venv/lib/python3.10/site-packages (from thinc<8.2.0,>=8.1.0->spacy<3.5.0,>=3.4.0->en-core-web-sm==3.4.1) (0.0.3)\n",
      "Requirement already satisfied: click<9.0.0,>=7.1.1 in /home/justinkoo/Projects/Guiana-Chestnut-Algos/venv/lib/python3.10/site-packages (from typer<0.8.0,>=0.3.0->spacy<3.5.0,>=3.4.0->en-core-web-sm==3.4.1) (8.1.3)\n",
      "Requirement already satisfied: MarkupSafe>=2.0 in /home/justinkoo/Projects/Guiana-Chestnut-Algos/venv/lib/python3.10/site-packages (from jinja2->spacy<3.5.0,>=3.4.0->en-core-web-sm==3.4.1) (2.1.1)\n",
      "\n",
      "\u001b[1m[\u001b[0m\u001b[34;49mnotice\u001b[0m\u001b[1;39;49m]\u001b[0m\u001b[39;49m A new release of pip available: \u001b[0m\u001b[31;49m22.3\u001b[0m\u001b[39;49m -> \u001b[0m\u001b[32;49m22.3.1\u001b[0m\n",
      "\u001b[1m[\u001b[0m\u001b[34;49mnotice\u001b[0m\u001b[1;39;49m]\u001b[0m\u001b[39;49m To update, run: \u001b[0m\u001b[32;49mpip install --upgrade pip\u001b[0m\n",
      "\u001b[38;5;2m✔ Download and installation successful\u001b[0m\n",
      "You can now load the package via spacy.load('en_core_web_sm')\n"
     ]
    }
   ],
   "source": [
    "! python -m spacy download en_core_web_sm"
   ]
  },
  {
   "cell_type": "markdown",
   "metadata": {},
   "source": [
    "With the english package installed, we can now perform sentiment analyisis."
   ]
  },
  {
   "cell_type": "markdown",
   "metadata": {},
   "source": [
    "Important sentiment terms:\n",
    "\n",
    "Polarity refers to the orientation of the expressed statement. It should be a float between 1 (positive) and -1 (negative).\n",
    "\n",
    "Subjectivity refers to the amount of personal bias in the expressed statement. It should be a float between 0 (personal) and 1 (public)."
   ]
  },
  {
   "cell_type": "code",
   "execution_count": 34,
   "metadata": {},
   "outputs": [],
   "source": [
    "def get_ticker_news_sentiment_analysis(symbol, client):\n",
    "    nlp = spacy.load('en_core_web_sm')\n",
    "    nlp.add_pipe('spacytextblob')\n",
    "\n",
    "    polarities, subjectivities, dates = [], [], []\n",
    "\n",
    "    ticker_news = get_ticker_news_data(symbol, client, date_format=\"%Y-%m-%d\")\n",
    "\n",
    "    for news in reversed(ticker_news):\n",
    "        news_summary, news_date = news['summary'], news['datetime']\n",
    "        result = nlp(news_summary)\n",
    "        news_sentiment = result._.blob.sentiment\n",
    "        news_polarity, news_subjectivity = news_sentiment.polarity, news_sentiment.subjectivity\n",
    "        polarities.append(news_polarity)\n",
    "        subjectivities.append(news_subjectivity)\n",
    "        dates.append(datetime.datetime.fromtimestamp(news_date).strftime(\"%Y-%m-%d\"))\n",
    "    \n",
    "    return polarities, subjectivities, dates"
   ]
  },
  {
   "cell_type": "code",
   "execution_count": 35,
   "metadata": {},
   "outputs": [
    {
     "data": {
      "text/html": [
       "<div>\n",
       "<style scoped>\n",
       "    .dataframe tbody tr th:only-of-type {\n",
       "        vertical-align: middle;\n",
       "    }\n",
       "\n",
       "    .dataframe tbody tr th {\n",
       "        vertical-align: top;\n",
       "    }\n",
       "\n",
       "    .dataframe thead th {\n",
       "        text-align: right;\n",
       "    }\n",
       "</style>\n",
       "<table border=\"1\" class=\"dataframe\">\n",
       "  <thead>\n",
       "    <tr style=\"text-align: right;\">\n",
       "      <th></th>\n",
       "      <th>Date</th>\n",
       "      <th>Polarity</th>\n",
       "      <th>Subjectivity</th>\n",
       "    </tr>\n",
       "  </thead>\n",
       "  <tbody>\n",
       "    <tr>\n",
       "      <th>0</th>\n",
       "      <td>2022-11-11</td>\n",
       "      <td>0.375000</td>\n",
       "      <td>0.750000</td>\n",
       "    </tr>\n",
       "    <tr>\n",
       "      <th>1</th>\n",
       "      <td>2022-11-11</td>\n",
       "      <td>0.125000</td>\n",
       "      <td>0.400000</td>\n",
       "    </tr>\n",
       "    <tr>\n",
       "      <th>2</th>\n",
       "      <td>2022-11-11</td>\n",
       "      <td>0.083333</td>\n",
       "      <td>0.144444</td>\n",
       "    </tr>\n",
       "    <tr>\n",
       "      <th>3</th>\n",
       "      <td>2022-11-11</td>\n",
       "      <td>-0.169643</td>\n",
       "      <td>0.333929</td>\n",
       "    </tr>\n",
       "    <tr>\n",
       "      <th>4</th>\n",
       "      <td>2022-11-11</td>\n",
       "      <td>0.000000</td>\n",
       "      <td>0.000000</td>\n",
       "    </tr>\n",
       "    <tr>\n",
       "      <th>...</th>\n",
       "      <td>...</td>\n",
       "      <td>...</td>\n",
       "      <td>...</td>\n",
       "    </tr>\n",
       "    <tr>\n",
       "      <th>192</th>\n",
       "      <td>2022-11-18</td>\n",
       "      <td>0.437500</td>\n",
       "      <td>0.937500</td>\n",
       "    </tr>\n",
       "    <tr>\n",
       "      <th>193</th>\n",
       "      <td>2022-11-18</td>\n",
       "      <td>0.516667</td>\n",
       "      <td>0.841667</td>\n",
       "    </tr>\n",
       "    <tr>\n",
       "      <th>194</th>\n",
       "      <td>2022-11-18</td>\n",
       "      <td>0.009524</td>\n",
       "      <td>0.222619</td>\n",
       "    </tr>\n",
       "    <tr>\n",
       "      <th>195</th>\n",
       "      <td>2022-11-18</td>\n",
       "      <td>0.243750</td>\n",
       "      <td>0.718750</td>\n",
       "    </tr>\n",
       "    <tr>\n",
       "      <th>196</th>\n",
       "      <td>2022-11-18</td>\n",
       "      <td>0.208333</td>\n",
       "      <td>0.250000</td>\n",
       "    </tr>\n",
       "  </tbody>\n",
       "</table>\n",
       "<p>197 rows × 3 columns</p>\n",
       "</div>"
      ],
      "text/plain": [
       "           Date  Polarity  Subjectivity\n",
       "0    2022-11-11  0.375000      0.750000\n",
       "1    2022-11-11  0.125000      0.400000\n",
       "2    2022-11-11  0.083333      0.144444\n",
       "3    2022-11-11 -0.169643      0.333929\n",
       "4    2022-11-11  0.000000      0.000000\n",
       "..          ...       ...           ...\n",
       "192  2022-11-18  0.437500      0.937500\n",
       "193  2022-11-18  0.516667      0.841667\n",
       "194  2022-11-18  0.009524      0.222619\n",
       "195  2022-11-18  0.243750      0.718750\n",
       "196  2022-11-18  0.208333      0.250000\n",
       "\n",
       "[197 rows x 3 columns]"
      ]
     },
     "execution_count": 35,
     "metadata": {},
     "output_type": "execute_result"
    }
   ],
   "source": [
    "polarities, subjectivities, dates = get_ticker_news_sentiment_analysis(symbol, client)\n",
    "pd.DataFrame.from_dict({'Date': dates, 'Polarity': polarities, 'Subjectivity': subjectivities})"
   ]
  },
  {
   "cell_type": "markdown",
   "metadata": {},
   "source": [
    "Let's also plot the polarities against the dates to see if there is any trend"
   ]
  },
  {
   "cell_type": "code",
   "execution_count": 36,
   "metadata": {},
   "outputs": [
    {
     "data": {
      "text/plain": [
       "<matplotlib.collections.PathCollection at 0x7fcdfbbb62c0>"
      ]
     },
     "execution_count": 36,
     "metadata": {},
     "output_type": "execute_result"
    },
    {
     "data": {
      "image/png": "[encoded data removed]",
      "text/plain": [
       "<Figure size 640x480 with 1 Axes>"
      ]
     },
     "metadata": {},
     "output_type": "display_data"
    }
   ],
   "source": [
    "plt.scatter(dates, polarities, c='blue')"
   ]
  }
 ],
 "metadata": {
  "kernelspec": {
   "display_name": "Python 3.10.6 ('venv': venv)",
   "language": "python",
   "name": "python3"
  },
  "language_info": {
   "codemirror_mode": {
    "name": "ipython",
    "version": 3
   },
   "file_extension": ".py",
   "mimetype": "text/x-python",
   "name": "python",
   "nbconvert_exporter": "python",
   "pygments_lexer": "ipython3",
   "version": "3.10.6"
  },
  "orig_nbformat": 4,
  "vscode": {
   "interpreter": {
    "hash": "57c3312e3d5a27b276345d0aa0bea0d7b543d9aa178f7dc442e2af4068482e0d"
   }
  }
 },
 "nbformat": 4,
 "nbformat_minor": 2
}
