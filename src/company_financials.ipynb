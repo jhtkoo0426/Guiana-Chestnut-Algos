{
 "cells": [
  {
   "cell_type": "markdown",
   "metadata": {},
   "source": [
    "# Company financials analysis\n",
    "This notebook focuses on strategies to analyse a stock symbol's potential or performance based on its company's basic information and financial data.\n",
    "\n",
    "We will use finnhub.io as our endpoint for retrieveing financial data for training."
   ]
  },
  {
   "cell_type": "markdown",
   "metadata": {},
   "source": [
    "### Packages\n",
    "Please ensure these packages are installed on your local environment via ```pip install -r requirements.txt``` or the corresponding package manager on your OS."
   ]
  },
  {
   "cell_type": "code",
   "execution_count": 3,
   "metadata": {},
   "outputs": [],
   "source": [
    "import os\n",
    "import requests\n",
    "import finnhub as fh\n",
    "import matplotlib\n",
    "import matplotlib.pyplot as plt\n",
    "import numpy as np\n",
    "import pandas as pd\n",
    "\n",
    "%matplotlib inline"
   ]
  },
  {
   "cell_type": "markdown",
   "metadata": {},
   "source": [
    "### Connecting to Finnhub.io\n",
    "Before starting, please register for a **free** API key at [Finnhub.io](https://finnhub.io). This notebook will only use free endpoints provided by the Finnhub API.\n",
    "\n",
    "Add your API key to your system's environment variables under the variable name \"FINNHUB_API_KEY\"."
   ]
  },
  {
   "cell_type": "code",
   "execution_count": 2,
   "metadata": {},
   "outputs": [
    {
     "data": {
      "text/plain": [
       "'c5vddl2ad3idg9amkudg'"
      ]
     },
     "execution_count": 2,
     "metadata": {},
     "output_type": "execute_result"
    }
   ],
   "source": [
    "import os\n",
    "\n",
    "FINNHUB_API_KEY = os.environ.get('FINNHUB_API_KEY')\n",
    "FINNHUB_API_KEY"
   ]
  },
  {
   "cell_type": "markdown",
   "metadata": {},
   "source": [
    "We can test if the API key is valid by establishing a connection to a finnhub.io webhook:"
   ]
  },
  {
   "cell_type": "code",
   "execution_count": null,
   "metadata": {},
   "outputs": [],
   "source": []
  }
 ],
 "metadata": {
  "kernelspec": {
   "display_name": "Python 3.9.7 64-bit",
   "language": "python",
   "name": "python3"
  },
  "language_info": {
   "codemirror_mode": {
    "name": "ipython",
    "version": 3
   },
   "file_extension": ".py",
   "mimetype": "text/x-python",
   "name": "python",
   "nbconvert_exporter": "python",
   "pygments_lexer": "ipython3",
   "version": "3.9.7"
  },
  "orig_nbformat": 4,
  "vscode": {
   "interpreter": {
    "hash": "063ea18badfd676d6573876b906e04b3a74395f4e150f1e04d64d220b5524025"
   }
  }
 },
 "nbformat": 4,
 "nbformat_minor": 2
}
