{
 "cells": [
  {
   "cell_type": "markdown",
   "metadata": {},
   "source": [
    "# Company financials analysis\n",
    "This notebook focuses on strategies to analyse a stock symbol's potential or performance based on its company's basic information and financial data.\n",
    "\n",
    "Due to rate limit restrictions from most APIs, we will stick to downloading limited data from the S&Q 500 index only."
   ]
  },
  {
   "cell_type": "markdown",
   "metadata": {},
   "source": [
    "### Packages\n",
    "Please ensure these packages are installed on your local environment via ```pip install -r requirements.txt``` or the corresponding package manager on your OS."
   ]
  },
  {
   "cell_type": "code",
   "execution_count": 35,
   "metadata": {},
   "outputs": [],
   "source": [
    "import csv\n",
    "import matplotlib\n",
    "import matplotlib.pyplot as plt\n",
    "import numpy as np\n",
    "import pandas as pd\n",
    "\n",
    "%matplotlib inline"
   ]
  },
  {
   "cell_type": "markdown",
   "metadata": {},
   "source": [
    "### 1. Gathering basic financial data on all US stock symbols\n",
    "First we will download the basic financial data for every US stock symbol from the S&Q 500 index. The data can be found [here](https://datahub.io/core/s-and-p-500-companies-financials)."
   ]
  },
  {
   "cell_type": "code",
   "execution_count": 37,
   "metadata": {},
   "outputs": [
    {
     "data": {
      "text/html": [
       "<div>\n",
       "<style scoped>\n",
       "    .dataframe tbody tr th:only-of-type {\n",
       "        vertical-align: middle;\n",
       "    }\n",
       "\n",
       "    .dataframe tbody tr th {\n",
       "        vertical-align: top;\n",
       "    }\n",
       "\n",
       "    .dataframe thead th {\n",
       "        text-align: right;\n",
       "    }\n",
       "</style>\n",
       "<table border=\"1\" class=\"dataframe\">\n",
       "  <thead>\n",
       "    <tr style=\"text-align: right;\">\n",
       "      <th></th>\n",
       "      <th>Symbol</th>\n",
       "      <th>Name</th>\n",
       "      <th>Sector</th>\n",
       "      <th>Price</th>\n",
       "      <th>Price/Earnings</th>\n",
       "      <th>Dividend Yield</th>\n",
       "      <th>Earnings/Share</th>\n",
       "      <th>52 Week Low</th>\n",
       "      <th>52 Week High</th>\n",
       "      <th>Market Cap</th>\n",
       "      <th>EBITDA</th>\n",
       "      <th>Price/Sales</th>\n",
       "      <th>Price/Book</th>\n",
       "    </tr>\n",
       "  </thead>\n",
       "  <tbody>\n",
       "    <tr>\n",
       "      <th>0</th>\n",
       "      <td>MMM</td>\n",
       "      <td>3M Company</td>\n",
       "      <td>Industrials</td>\n",
       "      <td>222.89</td>\n",
       "      <td>24.31</td>\n",
       "      <td>2.332862</td>\n",
       "      <td>7.92</td>\n",
       "      <td>259.77</td>\n",
       "      <td>175.490</td>\n",
       "      <td>1.387210e+11</td>\n",
       "      <td>9.048000e+09</td>\n",
       "      <td>4.390271</td>\n",
       "      <td>11.34</td>\n",
       "    </tr>\n",
       "    <tr>\n",
       "      <th>1</th>\n",
       "      <td>AOS</td>\n",
       "      <td>A.O. Smith Corp</td>\n",
       "      <td>Industrials</td>\n",
       "      <td>60.24</td>\n",
       "      <td>27.76</td>\n",
       "      <td>1.147959</td>\n",
       "      <td>1.70</td>\n",
       "      <td>68.39</td>\n",
       "      <td>48.925</td>\n",
       "      <td>1.078342e+10</td>\n",
       "      <td>6.010000e+08</td>\n",
       "      <td>3.575483</td>\n",
       "      <td>6.35</td>\n",
       "    </tr>\n",
       "    <tr>\n",
       "      <th>2</th>\n",
       "      <td>ABT</td>\n",
       "      <td>Abbott Laboratories</td>\n",
       "      <td>Health Care</td>\n",
       "      <td>56.27</td>\n",
       "      <td>22.51</td>\n",
       "      <td>1.908982</td>\n",
       "      <td>0.26</td>\n",
       "      <td>64.60</td>\n",
       "      <td>42.280</td>\n",
       "      <td>1.021210e+11</td>\n",
       "      <td>5.744000e+09</td>\n",
       "      <td>3.740480</td>\n",
       "      <td>3.19</td>\n",
       "    </tr>\n",
       "    <tr>\n",
       "      <th>3</th>\n",
       "      <td>ABBV</td>\n",
       "      <td>AbbVie Inc.</td>\n",
       "      <td>Health Care</td>\n",
       "      <td>108.48</td>\n",
       "      <td>19.41</td>\n",
       "      <td>2.499560</td>\n",
       "      <td>3.29</td>\n",
       "      <td>125.86</td>\n",
       "      <td>60.050</td>\n",
       "      <td>1.813860e+11</td>\n",
       "      <td>1.031000e+10</td>\n",
       "      <td>6.291571</td>\n",
       "      <td>26.14</td>\n",
       "    </tr>\n",
       "    <tr>\n",
       "      <th>4</th>\n",
       "      <td>ACN</td>\n",
       "      <td>Accenture plc</td>\n",
       "      <td>Information Technology</td>\n",
       "      <td>150.51</td>\n",
       "      <td>25.47</td>\n",
       "      <td>1.714470</td>\n",
       "      <td>5.44</td>\n",
       "      <td>162.60</td>\n",
       "      <td>114.820</td>\n",
       "      <td>9.876586e+10</td>\n",
       "      <td>5.643228e+09</td>\n",
       "      <td>2.604117</td>\n",
       "      <td>10.62</td>\n",
       "    </tr>\n",
       "  </tbody>\n",
       "</table>\n",
       "</div>"
      ],
      "text/plain": [
       "  Symbol                 Name                  Sector   Price  Price/Earnings  \\\n",
       "0    MMM           3M Company             Industrials  222.89           24.31   \n",
       "1    AOS      A.O. Smith Corp             Industrials   60.24           27.76   \n",
       "2    ABT  Abbott Laboratories             Health Care   56.27           22.51   \n",
       "3   ABBV          AbbVie Inc.             Health Care  108.48           19.41   \n",
       "4    ACN        Accenture plc  Information Technology  150.51           25.47   \n",
       "\n",
       "   Dividend Yield  Earnings/Share  52 Week Low  52 Week High    Market Cap  \\\n",
       "0        2.332862            7.92       259.77       175.490  1.387210e+11   \n",
       "1        1.147959            1.70        68.39        48.925  1.078342e+10   \n",
       "2        1.908982            0.26        64.60        42.280  1.021210e+11   \n",
       "3        2.499560            3.29       125.86        60.050  1.813860e+11   \n",
       "4        1.714470            5.44       162.60       114.820  9.876586e+10   \n",
       "\n",
       "         EBITDA  Price/Sales  Price/Book  \n",
       "0  9.048000e+09     4.390271       11.34  \n",
       "1  6.010000e+08     3.575483        6.35  \n",
       "2  5.744000e+09     3.740480        3.19  \n",
       "3  1.031000e+10     6.291571       26.14  \n",
       "4  5.643228e+09     2.604117       10.62  "
      ]
     },
     "execution_count": 37,
     "metadata": {},
     "output_type": "execute_result"
    }
   ],
   "source": [
    "sq500_financials = pd.read_csv('s&q500_financials.csv')\n",
    "sq500_financials.head()"
   ]
  }
 ],
 "metadata": {
  "kernelspec": {
   "display_name": "Python 3.9.7 64-bit",
   "language": "python",
   "name": "python3"
  },
  "language_info": {
   "codemirror_mode": {
    "name": "ipython",
    "version": 3
   },
   "file_extension": ".py",
   "mimetype": "text/x-python",
   "name": "python",
   "nbconvert_exporter": "python",
   "pygments_lexer": "ipython3",
   "version": "3.9.7"
  },
  "orig_nbformat": 4,
  "vscode": {
   "interpreter": {
    "hash": "063ea18badfd676d6573876b906e04b3a74395f4e150f1e04d64d220b5524025"
   }
  }
 },
 "nbformat": 4,
 "nbformat_minor": 2
}
